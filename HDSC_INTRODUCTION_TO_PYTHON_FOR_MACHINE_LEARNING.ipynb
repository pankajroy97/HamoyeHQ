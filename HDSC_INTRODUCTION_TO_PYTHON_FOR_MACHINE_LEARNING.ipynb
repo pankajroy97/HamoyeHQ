{
  "nbformat": 4,
  "nbformat_minor": 0,
  "metadata": {
    "colab": {
      "provenance": [],
      "authorship_tag": "ABX9TyNO3FjdaFMfjfxdOowEf7zN",
      "include_colab_link": true
    },
    "kernelspec": {
      "name": "python3",
      "display_name": "Python 3"
    },
    "language_info": {
      "name": "python"
    }
  },
  "cells": [
    {
      "cell_type": "markdown",
      "metadata": {
        "id": "view-in-github",
        "colab_type": "text"
      },
      "source": [
        "<a href=\"https://colab.research.google.com/github/pankajroy97/HamoyeHQ/blob/main/HDSC_INTRODUCTION_TO_PYTHON_FOR_MACHINE_LEARNING.ipynb\" target=\"_parent\"><img src=\"https://colab.research.google.com/assets/colab-badge.svg\" alt=\"Open In Colab\"/></a>"
      ]
    },
    {
      "cell_type": "code",
      "source": [
        "import pandas as pd\n",
        "df=pd.read_csv('/content/FoodBalanceSheets_E_Africa_NOFLAG.csv',encoding='latin-1')\n",
        "df.head()"
      ],
      "metadata": {
        "colab": {
          "base_uri": "https://localhost:8080/",
          "height": 206
        },
        "id": "NhCoQuUvENuG",
        "outputId": "70a37ce9-a316-4832-a3ce-f6a47fcae400"
      },
      "execution_count": null,
      "outputs": [
        {
          "output_type": "execute_result",
          "data": {
            "text/plain": [
              "   Area Code     Area  Item Code         Item  Element Code  \\\n",
              "0          4  Algeria       2501   Population           511   \n",
              "1          4  Algeria       2501   Population          5301   \n",
              "2          4  Algeria       2901  Grand Total           664   \n",
              "3          4  Algeria       2901  Grand Total           674   \n",
              "4          4  Algeria       2901  Grand Total           684   \n",
              "\n",
              "                                  Element             Unit     Y2014  \\\n",
              "0           Total Population - Both sexes     1000 persons  38924.00   \n",
              "1                Domestic supply quantity      1000 tonnes      0.00   \n",
              "2           Food supply (kcal/capita/day)  kcal/capita/day   3377.00   \n",
              "3  Protein supply quantity (g/capita/day)     g/capita/day     94.90   \n",
              "4      Fat supply quantity (g/capita/day)     g/capita/day     80.06   \n",
              "\n",
              "      Y2015     Y2016     Y2017     Y2018  \n",
              "0  39728.00  40551.00  41389.00  42228.00  \n",
              "1      0.00      0.00      0.00      0.00  \n",
              "2   3379.00   3372.00   3341.00   3322.00  \n",
              "3     94.35     94.72     92.82     91.83  \n",
              "4     79.36     77.40     80.19     77.28  "
            ],
            "text/html": [
              "\n",
              "  <div id=\"df-acd63128-e92b-4526-b5e0-62248d9a322c\">\n",
              "    <div class=\"colab-df-container\">\n",
              "      <div>\n",
              "<style scoped>\n",
              "    .dataframe tbody tr th:only-of-type {\n",
              "        vertical-align: middle;\n",
              "    }\n",
              "\n",
              "    .dataframe tbody tr th {\n",
              "        vertical-align: top;\n",
              "    }\n",
              "\n",
              "    .dataframe thead th {\n",
              "        text-align: right;\n",
              "    }\n",
              "</style>\n",
              "<table border=\"1\" class=\"dataframe\">\n",
              "  <thead>\n",
              "    <tr style=\"text-align: right;\">\n",
              "      <th></th>\n",
              "      <th>Area Code</th>\n",
              "      <th>Area</th>\n",
              "      <th>Item Code</th>\n",
              "      <th>Item</th>\n",
              "      <th>Element Code</th>\n",
              "      <th>Element</th>\n",
              "      <th>Unit</th>\n",
              "      <th>Y2014</th>\n",
              "      <th>Y2015</th>\n",
              "      <th>Y2016</th>\n",
              "      <th>Y2017</th>\n",
              "      <th>Y2018</th>\n",
              "    </tr>\n",
              "  </thead>\n",
              "  <tbody>\n",
              "    <tr>\n",
              "      <th>0</th>\n",
              "      <td>4</td>\n",
              "      <td>Algeria</td>\n",
              "      <td>2501</td>\n",
              "      <td>Population</td>\n",
              "      <td>511</td>\n",
              "      <td>Total Population - Both sexes</td>\n",
              "      <td>1000 persons</td>\n",
              "      <td>38924.00</td>\n",
              "      <td>39728.00</td>\n",
              "      <td>40551.00</td>\n",
              "      <td>41389.00</td>\n",
              "      <td>42228.00</td>\n",
              "    </tr>\n",
              "    <tr>\n",
              "      <th>1</th>\n",
              "      <td>4</td>\n",
              "      <td>Algeria</td>\n",
              "      <td>2501</td>\n",
              "      <td>Population</td>\n",
              "      <td>5301</td>\n",
              "      <td>Domestic supply quantity</td>\n",
              "      <td>1000 tonnes</td>\n",
              "      <td>0.00</td>\n",
              "      <td>0.00</td>\n",
              "      <td>0.00</td>\n",
              "      <td>0.00</td>\n",
              "      <td>0.00</td>\n",
              "    </tr>\n",
              "    <tr>\n",
              "      <th>2</th>\n",
              "      <td>4</td>\n",
              "      <td>Algeria</td>\n",
              "      <td>2901</td>\n",
              "      <td>Grand Total</td>\n",
              "      <td>664</td>\n",
              "      <td>Food supply (kcal/capita/day)</td>\n",
              "      <td>kcal/capita/day</td>\n",
              "      <td>3377.00</td>\n",
              "      <td>3379.00</td>\n",
              "      <td>3372.00</td>\n",
              "      <td>3341.00</td>\n",
              "      <td>3322.00</td>\n",
              "    </tr>\n",
              "    <tr>\n",
              "      <th>3</th>\n",
              "      <td>4</td>\n",
              "      <td>Algeria</td>\n",
              "      <td>2901</td>\n",
              "      <td>Grand Total</td>\n",
              "      <td>674</td>\n",
              "      <td>Protein supply quantity (g/capita/day)</td>\n",
              "      <td>g/capita/day</td>\n",
              "      <td>94.90</td>\n",
              "      <td>94.35</td>\n",
              "      <td>94.72</td>\n",
              "      <td>92.82</td>\n",
              "      <td>91.83</td>\n",
              "    </tr>\n",
              "    <tr>\n",
              "      <th>4</th>\n",
              "      <td>4</td>\n",
              "      <td>Algeria</td>\n",
              "      <td>2901</td>\n",
              "      <td>Grand Total</td>\n",
              "      <td>684</td>\n",
              "      <td>Fat supply quantity (g/capita/day)</td>\n",
              "      <td>g/capita/day</td>\n",
              "      <td>80.06</td>\n",
              "      <td>79.36</td>\n",
              "      <td>77.40</td>\n",
              "      <td>80.19</td>\n",
              "      <td>77.28</td>\n",
              "    </tr>\n",
              "  </tbody>\n",
              "</table>\n",
              "</div>\n",
              "      <button class=\"colab-df-convert\" onclick=\"convertToInteractive('df-acd63128-e92b-4526-b5e0-62248d9a322c')\"\n",
              "              title=\"Convert this dataframe to an interactive table.\"\n",
              "              style=\"display:none;\">\n",
              "        \n",
              "  <svg xmlns=\"http://www.w3.org/2000/svg\" height=\"24px\"viewBox=\"0 0 24 24\"\n",
              "       width=\"24px\">\n",
              "    <path d=\"M0 0h24v24H0V0z\" fill=\"none\"/>\n",
              "    <path d=\"M18.56 5.44l.94 2.06.94-2.06 2.06-.94-2.06-.94-.94-2.06-.94 2.06-2.06.94zm-11 1L8.5 8.5l.94-2.06 2.06-.94-2.06-.94L8.5 2.5l-.94 2.06-2.06.94zm10 10l.94 2.06.94-2.06 2.06-.94-2.06-.94-.94-2.06-.94 2.06-2.06.94z\"/><path d=\"M17.41 7.96l-1.37-1.37c-.4-.4-.92-.59-1.43-.59-.52 0-1.04.2-1.43.59L10.3 9.45l-7.72 7.72c-.78.78-.78 2.05 0 2.83L4 21.41c.39.39.9.59 1.41.59.51 0 1.02-.2 1.41-.59l7.78-7.78 2.81-2.81c.8-.78.8-2.07 0-2.86zM5.41 20L4 18.59l7.72-7.72 1.47 1.35L5.41 20z\"/>\n",
              "  </svg>\n",
              "      </button>\n",
              "      \n",
              "  <style>\n",
              "    .colab-df-container {\n",
              "      display:flex;\n",
              "      flex-wrap:wrap;\n",
              "      gap: 12px;\n",
              "    }\n",
              "\n",
              "    .colab-df-convert {\n",
              "      background-color: #E8F0FE;\n",
              "      border: none;\n",
              "      border-radius: 50%;\n",
              "      cursor: pointer;\n",
              "      display: none;\n",
              "      fill: #1967D2;\n",
              "      height: 32px;\n",
              "      padding: 0 0 0 0;\n",
              "      width: 32px;\n",
              "    }\n",
              "\n",
              "    .colab-df-convert:hover {\n",
              "      background-color: #E2EBFA;\n",
              "      box-shadow: 0px 1px 2px rgba(60, 64, 67, 0.3), 0px 1px 3px 1px rgba(60, 64, 67, 0.15);\n",
              "      fill: #174EA6;\n",
              "    }\n",
              "\n",
              "    [theme=dark] .colab-df-convert {\n",
              "      background-color: #3B4455;\n",
              "      fill: #D2E3FC;\n",
              "    }\n",
              "\n",
              "    [theme=dark] .colab-df-convert:hover {\n",
              "      background-color: #434B5C;\n",
              "      box-shadow: 0px 1px 3px 1px rgba(0, 0, 0, 0.15);\n",
              "      filter: drop-shadow(0px 1px 2px rgba(0, 0, 0, 0.3));\n",
              "      fill: #FFFFFF;\n",
              "    }\n",
              "  </style>\n",
              "\n",
              "      <script>\n",
              "        const buttonEl =\n",
              "          document.querySelector('#df-acd63128-e92b-4526-b5e0-62248d9a322c button.colab-df-convert');\n",
              "        buttonEl.style.display =\n",
              "          google.colab.kernel.accessAllowed ? 'block' : 'none';\n",
              "\n",
              "        async function convertToInteractive(key) {\n",
              "          const element = document.querySelector('#df-acd63128-e92b-4526-b5e0-62248d9a322c');\n",
              "          const dataTable =\n",
              "            await google.colab.kernel.invokeFunction('convertToInteractive',\n",
              "                                                     [key], {});\n",
              "          if (!dataTable) return;\n",
              "\n",
              "          const docLinkHtml = 'Like what you see? Visit the ' +\n",
              "            '<a target=\"_blank\" href=https://colab.research.google.com/notebooks/data_table.ipynb>data table notebook</a>'\n",
              "            + ' to learn more about interactive tables.';\n",
              "          element.innerHTML = '';\n",
              "          dataTable['output_type'] = 'display_data';\n",
              "          await google.colab.output.renderOutput(dataTable, element);\n",
              "          const docLink = document.createElement('div');\n",
              "          docLink.innerHTML = docLinkHtml;\n",
              "          element.appendChild(docLink);\n",
              "        }\n",
              "      </script>\n",
              "    </div>\n",
              "  </div>\n",
              "  "
            ]
          },
          "metadata": {},
          "execution_count": 11
        }
      ]
    },
    {
      "cell_type": "code",
      "source": [
        "df.columns"
      ],
      "metadata": {
        "colab": {
          "base_uri": "https://localhost:8080/"
        },
        "id": "u1xDEDZDGrV_",
        "outputId": "85324b2f-0a5e-4cad-ff32-bafa7ae50dcc"
      },
      "execution_count": null,
      "outputs": [
        {
          "output_type": "execute_result",
          "data": {
            "text/plain": [
              "Index(['Area Code', 'Area', 'Item Code', 'Item', 'Element Code', 'Element',\n",
              "       'Unit', 'Y2014', 'Y2015', 'Y2016', 'Y2017', 'Y2018'],\n",
              "      dtype='object')"
            ]
          },
          "metadata": {},
          "execution_count": 12
        }
      ]
    },
    {
      "cell_type": "markdown",
      "source": [
        "### Q1-Which of the following is a python inbuilt module?\n",
        "\n",
        "Ans-Matplotlib\n",
        "\n",
        "Pandas\n",
        "\n",
        "Math\n",
        "\n",
        "Seaborn"
      ],
      "metadata": {
        "id": "qUCjdmJlSs3Q"
      }
    },
    {
      "cell_type": "markdown",
      "source": [
        "### Q2-How would you check for the number of rows and columns in a pandas DataFrame named df?\n",
        "\n",
        "Ans-df.shape"
      ],
      "metadata": {
        "id": "eZxGyLsGSx3P"
      }
    },
    {
      "cell_type": "markdown",
      "source": [
        "###Q3- What is the mean and standard deviation across the whole dataset for the year 2017 to 2 decimal places?\n",
        "Ans-140.92 and 1671.86"
      ],
      "metadata": {
        "id": "kyDzV4gXS-FH"
      }
    },
    {
      "cell_type": "code",
      "source": [
        "df['Y2017'].describe()"
      ],
      "metadata": {
        "colab": {
          "base_uri": "https://localhost:8080/"
        },
        "id": "s06qWs1aEefs",
        "outputId": "9741247b-0a03-4a17-9036-fc12eb6d145d"
      },
      "execution_count": null,
      "outputs": [
        {
          "output_type": "execute_result",
          "data": {
            "text/plain": [
              "count     59437.000000\n",
              "mean        140.917765\n",
              "std        1671.862359\n",
              "min       -1582.000000\n",
              "25%           0.000000\n",
              "50%           0.100000\n",
              "75%           9.000000\n",
              "max      190873.000000\n",
              "Name: Y2017, dtype: float64"
            ]
          },
          "metadata": {},
          "execution_count": 23
        }
      ]
    },
    {
      "cell_type": "markdown",
      "source": [
        "###Q4-If you have the following list\n",
        "\n",
        "lst = [[35, 'Portugal', 94], [33, 'Argentina', 93], [30 , 'Brazil', 92]]\n",
        "\n",
        "col = [‘Age’,’Nationality’,’Overall’]\n",
        "\n",
        "How do you create a pandas DataFrame using this list, to look like the table below?"
      ],
      "metadata": {
        "id": "lnNTxRJJTWOP"
      }
    },
    {
      "cell_type": "code",
      "source": [
        "import pandas as pd\n",
        "lst = [[35, 'Portugal', 94], [33, 'Argentina', 93], [30 , 'Brazil', 92]]\n",
        "\n",
        "col = ['Age','Nationality','Overall']\n",
        "df=pd.DataFrame(lst,columns=col,index=[1,2,3])\n",
        "df"
      ],
      "metadata": {
        "id": "EG_BXjrhDFZg",
        "colab": {
          "base_uri": "https://localhost:8080/",
          "height": 143
        },
        "outputId": "2f65ed72-195e-4fcf-b463-16fd6a74d6b5"
      },
      "execution_count": null,
      "outputs": [
        {
          "output_type": "execute_result",
          "data": {
            "text/plain": [
              "   Age Nationality  Overall\n",
              "1   35    Portugal       94\n",
              "2   33   Argentina       93\n",
              "3   30      Brazil       92"
            ],
            "text/html": [
              "\n",
              "  <div id=\"df-d03ff9cf-942d-4fa2-b0dc-f599e38d6d8a\">\n",
              "    <div class=\"colab-df-container\">\n",
              "      <div>\n",
              "<style scoped>\n",
              "    .dataframe tbody tr th:only-of-type {\n",
              "        vertical-align: middle;\n",
              "    }\n",
              "\n",
              "    .dataframe tbody tr th {\n",
              "        vertical-align: top;\n",
              "    }\n",
              "\n",
              "    .dataframe thead th {\n",
              "        text-align: right;\n",
              "    }\n",
              "</style>\n",
              "<table border=\"1\" class=\"dataframe\">\n",
              "  <thead>\n",
              "    <tr style=\"text-align: right;\">\n",
              "      <th></th>\n",
              "      <th>Age</th>\n",
              "      <th>Nationality</th>\n",
              "      <th>Overall</th>\n",
              "    </tr>\n",
              "  </thead>\n",
              "  <tbody>\n",
              "    <tr>\n",
              "      <th>1</th>\n",
              "      <td>35</td>\n",
              "      <td>Portugal</td>\n",
              "      <td>94</td>\n",
              "    </tr>\n",
              "    <tr>\n",
              "      <th>2</th>\n",
              "      <td>33</td>\n",
              "      <td>Argentina</td>\n",
              "      <td>93</td>\n",
              "    </tr>\n",
              "    <tr>\n",
              "      <th>3</th>\n",
              "      <td>30</td>\n",
              "      <td>Brazil</td>\n",
              "      <td>92</td>\n",
              "    </tr>\n",
              "  </tbody>\n",
              "</table>\n",
              "</div>\n",
              "      <button class=\"colab-df-convert\" onclick=\"convertToInteractive('df-d03ff9cf-942d-4fa2-b0dc-f599e38d6d8a')\"\n",
              "              title=\"Convert this dataframe to an interactive table.\"\n",
              "              style=\"display:none;\">\n",
              "        \n",
              "  <svg xmlns=\"http://www.w3.org/2000/svg\" height=\"24px\"viewBox=\"0 0 24 24\"\n",
              "       width=\"24px\">\n",
              "    <path d=\"M0 0h24v24H0V0z\" fill=\"none\"/>\n",
              "    <path d=\"M18.56 5.44l.94 2.06.94-2.06 2.06-.94-2.06-.94-.94-2.06-.94 2.06-2.06.94zm-11 1L8.5 8.5l.94-2.06 2.06-.94-2.06-.94L8.5 2.5l-.94 2.06-2.06.94zm10 10l.94 2.06.94-2.06 2.06-.94-2.06-.94-.94-2.06-.94 2.06-2.06.94z\"/><path d=\"M17.41 7.96l-1.37-1.37c-.4-.4-.92-.59-1.43-.59-.52 0-1.04.2-1.43.59L10.3 9.45l-7.72 7.72c-.78.78-.78 2.05 0 2.83L4 21.41c.39.39.9.59 1.41.59.51 0 1.02-.2 1.41-.59l7.78-7.78 2.81-2.81c.8-.78.8-2.07 0-2.86zM5.41 20L4 18.59l7.72-7.72 1.47 1.35L5.41 20z\"/>\n",
              "  </svg>\n",
              "      </button>\n",
              "      \n",
              "  <style>\n",
              "    .colab-df-container {\n",
              "      display:flex;\n",
              "      flex-wrap:wrap;\n",
              "      gap: 12px;\n",
              "    }\n",
              "\n",
              "    .colab-df-convert {\n",
              "      background-color: #E8F0FE;\n",
              "      border: none;\n",
              "      border-radius: 50%;\n",
              "      cursor: pointer;\n",
              "      display: none;\n",
              "      fill: #1967D2;\n",
              "      height: 32px;\n",
              "      padding: 0 0 0 0;\n",
              "      width: 32px;\n",
              "    }\n",
              "\n",
              "    .colab-df-convert:hover {\n",
              "      background-color: #E2EBFA;\n",
              "      box-shadow: 0px 1px 2px rgba(60, 64, 67, 0.3), 0px 1px 3px 1px rgba(60, 64, 67, 0.15);\n",
              "      fill: #174EA6;\n",
              "    }\n",
              "\n",
              "    [theme=dark] .colab-df-convert {\n",
              "      background-color: #3B4455;\n",
              "      fill: #D2E3FC;\n",
              "    }\n",
              "\n",
              "    [theme=dark] .colab-df-convert:hover {\n",
              "      background-color: #434B5C;\n",
              "      box-shadow: 0px 1px 3px 1px rgba(0, 0, 0, 0.15);\n",
              "      filter: drop-shadow(0px 1px 2px rgba(0, 0, 0, 0.3));\n",
              "      fill: #FFFFFF;\n",
              "    }\n",
              "  </style>\n",
              "\n",
              "      <script>\n",
              "        const buttonEl =\n",
              "          document.querySelector('#df-d03ff9cf-942d-4fa2-b0dc-f599e38d6d8a button.colab-df-convert');\n",
              "        buttonEl.style.display =\n",
              "          google.colab.kernel.accessAllowed ? 'block' : 'none';\n",
              "\n",
              "        async function convertToInteractive(key) {\n",
              "          const element = document.querySelector('#df-d03ff9cf-942d-4fa2-b0dc-f599e38d6d8a');\n",
              "          const dataTable =\n",
              "            await google.colab.kernel.invokeFunction('convertToInteractive',\n",
              "                                                     [key], {});\n",
              "          if (!dataTable) return;\n",
              "\n",
              "          const docLinkHtml = 'Like what you see? Visit the ' +\n",
              "            '<a target=\"_blank\" href=https://colab.research.google.com/notebooks/data_table.ipynb>data table notebook</a>'\n",
              "            + ' to learn more about interactive tables.';\n",
              "          element.innerHTML = '';\n",
              "          dataTable['output_type'] = 'display_data';\n",
              "          await google.colab.output.renderOutput(dataTable, element);\n",
              "          const docLink = document.createElement('div');\n",
              "          docLink.innerHTML = docLinkHtml;\n",
              "          element.appendChild(docLink);\n",
              "        }\n",
              "      </script>\n",
              "    </div>\n",
              "  </div>\n",
              "  "
            ]
          },
          "metadata": {},
          "execution_count": 2
        }
      ]
    },
    {
      "cell_type": "markdown",
      "source": [
        "###Q5- Which of these python data structures is unorderly?\n",
        "\n",
        "Ans-Set"
      ],
      "metadata": {
        "id": "6w7qnDitTroP"
      }
    },
    {
      "cell_type": "markdown",
      "source": [
        "###Q6-Answer the following questions based on the African food production dataset provided by the FAO website already provided\n",
        "\n",
        "What is the total sum of Wine produced in 2015 and 2018 respectively?\n",
        "\n",
        "Hint:\n",
        "\n",
        "Perform a groupby sum aggregation on ‘Item’\n",
        "\n",
        "Ans-4251.81 and 4039.32"
      ],
      "metadata": {
        "id": "yQy6gpygTyQW"
      }
    },
    {
      "cell_type": "code",
      "source": [
        "df[df['Item']=='Wine']"
      ],
      "metadata": {
        "id": "EKAmBH1sFJtM"
      },
      "execution_count": null,
      "outputs": []
    },
    {
      "cell_type": "code",
      "source": [
        "df.groupby('Item')[['Y2015','Y2018']].sum()"
      ],
      "metadata": {
        "colab": {
          "base_uri": "https://localhost:8080/",
          "height": 455
        },
        "id": "CHI2F-sKFaMJ",
        "outputId": "ee2f8932-2765-432f-d4ab-0726331cd98c"
      },
      "execution_count": null,
      "outputs": [
        {
          "output_type": "execute_result",
          "data": {
            "text/plain": [
              "                         Y2015      Y2018\n",
              "Item                                     \n",
              "Alcohol, Non-Food      2180.00    2293.00\n",
              "Alcoholic Beverages   98783.72   97847.27\n",
              "Animal Products       11811.73   11578.61\n",
              "Animal fats          200675.72  269648.27\n",
              "Apples and products   10559.15    9640.51\n",
              "...                        ...        ...\n",
              "Vegetables, Other    158104.08  163987.21\n",
              "Vegetal Products     107064.17  107775.39\n",
              "Wheat and products   234710.51  242645.19\n",
              "Wine                   4251.81    4039.32\n",
              "Yams                 203151.78  221272.09\n",
              "\n",
              "[119 rows x 2 columns]"
            ],
            "text/html": [
              "\n",
              "  <div id=\"df-f4977dec-fb21-4b38-9b5b-6796bdaa8492\">\n",
              "    <div class=\"colab-df-container\">\n",
              "      <div>\n",
              "<style scoped>\n",
              "    .dataframe tbody tr th:only-of-type {\n",
              "        vertical-align: middle;\n",
              "    }\n",
              "\n",
              "    .dataframe tbody tr th {\n",
              "        vertical-align: top;\n",
              "    }\n",
              "\n",
              "    .dataframe thead th {\n",
              "        text-align: right;\n",
              "    }\n",
              "</style>\n",
              "<table border=\"1\" class=\"dataframe\">\n",
              "  <thead>\n",
              "    <tr style=\"text-align: right;\">\n",
              "      <th></th>\n",
              "      <th>Y2015</th>\n",
              "      <th>Y2018</th>\n",
              "    </tr>\n",
              "    <tr>\n",
              "      <th>Item</th>\n",
              "      <th></th>\n",
              "      <th></th>\n",
              "    </tr>\n",
              "  </thead>\n",
              "  <tbody>\n",
              "    <tr>\n",
              "      <th>Alcohol, Non-Food</th>\n",
              "      <td>2180.00</td>\n",
              "      <td>2293.00</td>\n",
              "    </tr>\n",
              "    <tr>\n",
              "      <th>Alcoholic Beverages</th>\n",
              "      <td>98783.72</td>\n",
              "      <td>97847.27</td>\n",
              "    </tr>\n",
              "    <tr>\n",
              "      <th>Animal Products</th>\n",
              "      <td>11811.73</td>\n",
              "      <td>11578.61</td>\n",
              "    </tr>\n",
              "    <tr>\n",
              "      <th>Animal fats</th>\n",
              "      <td>200675.72</td>\n",
              "      <td>269648.27</td>\n",
              "    </tr>\n",
              "    <tr>\n",
              "      <th>Apples and products</th>\n",
              "      <td>10559.15</td>\n",
              "      <td>9640.51</td>\n",
              "    </tr>\n",
              "    <tr>\n",
              "      <th>...</th>\n",
              "      <td>...</td>\n",
              "      <td>...</td>\n",
              "    </tr>\n",
              "    <tr>\n",
              "      <th>Vegetables, Other</th>\n",
              "      <td>158104.08</td>\n",
              "      <td>163987.21</td>\n",
              "    </tr>\n",
              "    <tr>\n",
              "      <th>Vegetal Products</th>\n",
              "      <td>107064.17</td>\n",
              "      <td>107775.39</td>\n",
              "    </tr>\n",
              "    <tr>\n",
              "      <th>Wheat and products</th>\n",
              "      <td>234710.51</td>\n",
              "      <td>242645.19</td>\n",
              "    </tr>\n",
              "    <tr>\n",
              "      <th>Wine</th>\n",
              "      <td>4251.81</td>\n",
              "      <td>4039.32</td>\n",
              "    </tr>\n",
              "    <tr>\n",
              "      <th>Yams</th>\n",
              "      <td>203151.78</td>\n",
              "      <td>221272.09</td>\n",
              "    </tr>\n",
              "  </tbody>\n",
              "</table>\n",
              "<p>119 rows × 2 columns</p>\n",
              "</div>\n",
              "      <button class=\"colab-df-convert\" onclick=\"convertToInteractive('df-f4977dec-fb21-4b38-9b5b-6796bdaa8492')\"\n",
              "              title=\"Convert this dataframe to an interactive table.\"\n",
              "              style=\"display:none;\">\n",
              "        \n",
              "  <svg xmlns=\"http://www.w3.org/2000/svg\" height=\"24px\"viewBox=\"0 0 24 24\"\n",
              "       width=\"24px\">\n",
              "    <path d=\"M0 0h24v24H0V0z\" fill=\"none\"/>\n",
              "    <path d=\"M18.56 5.44l.94 2.06.94-2.06 2.06-.94-2.06-.94-.94-2.06-.94 2.06-2.06.94zm-11 1L8.5 8.5l.94-2.06 2.06-.94-2.06-.94L8.5 2.5l-.94 2.06-2.06.94zm10 10l.94 2.06.94-2.06 2.06-.94-2.06-.94-.94-2.06-.94 2.06-2.06.94z\"/><path d=\"M17.41 7.96l-1.37-1.37c-.4-.4-.92-.59-1.43-.59-.52 0-1.04.2-1.43.59L10.3 9.45l-7.72 7.72c-.78.78-.78 2.05 0 2.83L4 21.41c.39.39.9.59 1.41.59.51 0 1.02-.2 1.41-.59l7.78-7.78 2.81-2.81c.8-.78.8-2.07 0-2.86zM5.41 20L4 18.59l7.72-7.72 1.47 1.35L5.41 20z\"/>\n",
              "  </svg>\n",
              "      </button>\n",
              "      \n",
              "  <style>\n",
              "    .colab-df-container {\n",
              "      display:flex;\n",
              "      flex-wrap:wrap;\n",
              "      gap: 12px;\n",
              "    }\n",
              "\n",
              "    .colab-df-convert {\n",
              "      background-color: #E8F0FE;\n",
              "      border: none;\n",
              "      border-radius: 50%;\n",
              "      cursor: pointer;\n",
              "      display: none;\n",
              "      fill: #1967D2;\n",
              "      height: 32px;\n",
              "      padding: 0 0 0 0;\n",
              "      width: 32px;\n",
              "    }\n",
              "\n",
              "    .colab-df-convert:hover {\n",
              "      background-color: #E2EBFA;\n",
              "      box-shadow: 0px 1px 2px rgba(60, 64, 67, 0.3), 0px 1px 3px 1px rgba(60, 64, 67, 0.15);\n",
              "      fill: #174EA6;\n",
              "    }\n",
              "\n",
              "    [theme=dark] .colab-df-convert {\n",
              "      background-color: #3B4455;\n",
              "      fill: #D2E3FC;\n",
              "    }\n",
              "\n",
              "    [theme=dark] .colab-df-convert:hover {\n",
              "      background-color: #434B5C;\n",
              "      box-shadow: 0px 1px 3px 1px rgba(0, 0, 0, 0.15);\n",
              "      filter: drop-shadow(0px 1px 2px rgba(0, 0, 0, 0.3));\n",
              "      fill: #FFFFFF;\n",
              "    }\n",
              "  </style>\n",
              "\n",
              "      <script>\n",
              "        const buttonEl =\n",
              "          document.querySelector('#df-f4977dec-fb21-4b38-9b5b-6796bdaa8492 button.colab-df-convert');\n",
              "        buttonEl.style.display =\n",
              "          google.colab.kernel.accessAllowed ? 'block' : 'none';\n",
              "\n",
              "        async function convertToInteractive(key) {\n",
              "          const element = document.querySelector('#df-f4977dec-fb21-4b38-9b5b-6796bdaa8492');\n",
              "          const dataTable =\n",
              "            await google.colab.kernel.invokeFunction('convertToInteractive',\n",
              "                                                     [key], {});\n",
              "          if (!dataTable) return;\n",
              "\n",
              "          const docLinkHtml = 'Like what you see? Visit the ' +\n",
              "            '<a target=\"_blank\" href=https://colab.research.google.com/notebooks/data_table.ipynb>data table notebook</a>'\n",
              "            + ' to learn more about interactive tables.';\n",
              "          element.innerHTML = '';\n",
              "          dataTable['output_type'] = 'display_data';\n",
              "          await google.colab.output.renderOutput(dataTable, element);\n",
              "          const docLink = document.createElement('div');\n",
              "          docLink.innerHTML = docLinkHtml;\n",
              "          element.appendChild(docLink);\n",
              "        }\n",
              "      </script>\n",
              "    </div>\n",
              "  </div>\n",
              "  "
            ]
          },
          "metadata": {},
          "execution_count": 28
        }
      ]
    },
    {
      "cell_type": "markdown",
      "source": [
        "###Q7-Select columns ‘Y2017’ and ‘Area’, Perform a groupby operation on ‘Area’.  Which of these Areas had the highest sum in 2017?"
      ],
      "metadata": {
        "id": "FNBsdhT5URi3"
      }
    },
    {
      "cell_type": "code",
      "source": [
        "u=df[['Area','Y2017']]\n",
        "t=u.groupby('Area')['Y2017'].sum()\n",
        "t1=t.sort_values(ascending=False)\n",
        "t1.head(1)"
      ],
      "metadata": {
        "colab": {
          "base_uri": "https://localhost:8080/"
        },
        "id": "-a9KpRp_KTXx",
        "outputId": "f6a855d8-ba8f-49c3-9b3a-8e8c92c42593"
      },
      "execution_count": null,
      "outputs": [
        {
          "output_type": "execute_result",
          "data": {
            "text/plain": [
              "Area\n",
              "Nigeria    1483268.23\n",
              "Name: Y2017, dtype: float64"
            ]
          },
          "metadata": {},
          "execution_count": 8
        }
      ]
    },
    {
      "cell_type": "markdown",
      "source": [
        "###Q8-Given the following python code, what would the output of the code give?\n",
        "\n",
        "my_tuppy = (1,2,5,8)\n",
        "\n",
        "my_tuppy[2] = 6"
      ],
      "metadata": {
        "id": "cI4NJbx-Udzn"
      }
    },
    {
      "cell_type": "code",
      "execution_count": null,
      "metadata": {
        "colab": {
          "base_uri": "https://localhost:8080/",
          "height": 200
        },
        "id": "fLIypvuH_oPB",
        "outputId": "aed90ba5-40b5-444c-cb6d-4478e64a54fd"
      },
      "outputs": [
        {
          "output_type": "error",
          "ename": "TypeError",
          "evalue": "ignored",
          "traceback": [
            "\u001b[0;31m---------------------------------------------------------------------------\u001b[0m",
            "\u001b[0;31mTypeError\u001b[0m                                 Traceback (most recent call last)",
            "\u001b[0;32m<ipython-input-1-ce1543b3be47>\u001b[0m in \u001b[0;36m<cell line: 3>\u001b[0;34m()\u001b[0m\n\u001b[1;32m      1\u001b[0m \u001b[0mmy_tuppy\u001b[0m \u001b[0;34m=\u001b[0m \u001b[0;34m(\u001b[0m\u001b[0;36m1\u001b[0m\u001b[0;34m,\u001b[0m\u001b[0;36m2\u001b[0m\u001b[0;34m,\u001b[0m\u001b[0;36m5\u001b[0m\u001b[0;34m,\u001b[0m\u001b[0;36m8\u001b[0m\u001b[0;34m)\u001b[0m\u001b[0;34m\u001b[0m\u001b[0;34m\u001b[0m\u001b[0m\n\u001b[1;32m      2\u001b[0m \u001b[0;34m\u001b[0m\u001b[0m\n\u001b[0;32m----> 3\u001b[0;31m \u001b[0mmy_tuppy\u001b[0m\u001b[0;34m[\u001b[0m\u001b[0;36m2\u001b[0m\u001b[0;34m]\u001b[0m \u001b[0;34m=\u001b[0m \u001b[0;36m6\u001b[0m\u001b[0;34m\u001b[0m\u001b[0;34m\u001b[0m\u001b[0m\n\u001b[0m",
            "\u001b[0;31mTypeError\u001b[0m: 'tuple' object does not support item assignment"
          ]
        }
      ],
      "source": [
        "my_tuppy = (1,2,5,8)\n",
        "my_tuppy[2] = 6"
      ]
    },
    {
      "cell_type": "markdown",
      "source": [
        "###Q9-Consider the following list of tuples:\n",
        "\n",
        "y = [(2, 4), (7, 8), (1, 5, 9)]\n",
        "\n",
        "How would you assign element 8 from the list to a variable x?"
      ],
      "metadata": {
        "id": "K1jtPNemUnBC"
      }
    },
    {
      "cell_type": "code",
      "source": [
        "y = [(2, 4), (7, 8), (1, 5, 9)]\n",
        "x=y[1][1]\n",
        "x"
      ],
      "metadata": {
        "colab": {
          "base_uri": "https://localhost:8080/"
        },
        "id": "66tpHzNC_5il",
        "outputId": "2342c327-e50b-4ddb-c0fc-9ad687032f8a"
      },
      "execution_count": null,
      "outputs": [
        {
          "output_type": "execute_result",
          "data": {
            "text/plain": [
              "8"
            ]
          },
          "metadata": {},
          "execution_count": 7
        }
      ]
    },
    {
      "cell_type": "markdown",
      "source": [
        "###Q10-What is the total number and percentage of missing data in 2014 to 3 decimal places?"
      ],
      "metadata": {
        "id": "c4Mr2WsPYX2z"
      }
    },
    {
      "cell_type": "code",
      "source": [
        "df['Y2014'].isnull().sum()"
      ],
      "metadata": {
        "colab": {
          "base_uri": "https://localhost:8080/"
        },
        "id": "tZ_OdD_2GPeY",
        "outputId": "d1e3693b-1ee1-4be4-e2f3-6c339c5b8a5d"
      },
      "execution_count": null,
      "outputs": [
        {
          "output_type": "execute_result",
          "data": {
            "text/plain": [
              "1589"
            ]
          },
          "metadata": {},
          "execution_count": 9
        }
      ]
    },
    {
      "cell_type": "code",
      "source": [
        "df.shape"
      ],
      "metadata": {
        "colab": {
          "base_uri": "https://localhost:8080/"
        },
        "id": "m7h12LdEGYxI",
        "outputId": "7805ff29-c4f4-4b39-c9be-949dd792def7"
      },
      "execution_count": null,
      "outputs": [
        {
          "output_type": "execute_result",
          "data": {
            "text/plain": [
              "(60943, 12)"
            ]
          },
          "metadata": {},
          "execution_count": 35
        }
      ]
    },
    {
      "cell_type": "code",
      "source": [
        "(1589/60943)*100"
      ],
      "metadata": {
        "colab": {
          "base_uri": "https://localhost:8080/"
        },
        "id": "2wPOGf9uGdxw",
        "outputId": "40422ff4-d32c-4d01-ed7d-cd65edc51592"
      },
      "execution_count": null,
      "outputs": [
        {
          "output_type": "execute_result",
          "data": {
            "text/plain": [
              "2.6073544131401474"
            ]
          },
          "metadata": {},
          "execution_count": 36
        }
      ]
    },
    {
      "cell_type": "markdown",
      "source": [
        "###Q11-What is the total number of unique countries in the dataset?"
      ],
      "metadata": {
        "id": "-aIHS35DY2wz"
      }
    },
    {
      "cell_type": "code",
      "source": [
        "df['Area'].nunique()"
      ],
      "metadata": {
        "colab": {
          "base_uri": "https://localhost:8080/"
        },
        "id": "zo59NKX5E1nz",
        "outputId": "74305f66-9035-4964-d4dc-905802ce8802"
      },
      "execution_count": null,
      "outputs": [
        {
          "output_type": "execute_result",
          "data": {
            "text/plain": [
              "49"
            ]
          },
          "metadata": {},
          "execution_count": 37
        }
      ]
    },
    {
      "cell_type": "markdown",
      "source": [
        "###Q12-Which year had the least correlation with ‘Element Code’?\n",
        "Ans-2016"
      ],
      "metadata": {
        "id": "ioPixYiPY_Ea"
      }
    },
    {
      "cell_type": "code",
      "source": [
        "import seaborn as sns\n",
        "cor=df.corr()\n",
        "sns.heatmap(cor,annot=True)"
      ],
      "metadata": {
        "colab": {
          "base_uri": "https://localhost:8080/",
          "height": 591
        },
        "id": "ggyKI59lGyUW",
        "outputId": "ae85d90e-dcfc-44d8-98bf-588d32d6b97d"
      },
      "execution_count": null,
      "outputs": [
        {
          "output_type": "stream",
          "name": "stderr",
          "text": [
            "<ipython-input-41-e9fa061f02e2>:2: FutureWarning: The default value of numeric_only in DataFrame.corr is deprecated. In a future version, it will default to False. Select only valid columns or specify the value of numeric_only to silence this warning.\n",
            "  cor=df.corr()\n"
          ]
        },
        {
          "output_type": "execute_result",
          "data": {
            "text/plain": [
              "<Axes: >"
            ]
          },
          "metadata": {},
          "execution_count": 41
        },
        {
          "output_type": "display_data",
          "data": {
            "text/plain": [
              "<Figure size 640x480 with 2 Axes>"
            ],
            "image/png": "[encoded data removed]"
          },
          "metadata": {}
        }
      ]
    },
    {
      "cell_type": "markdown",
      "source": [
        "###Q13-Select columns ‘Y2017’ and ‘Area’, Perform a groupby operation on ‘Area’.  Which of these Areas had the 7th lowest sum in 2017?\n",
        "Ans-Guinea-Bissau"
      ],
      "metadata": {
        "id": "Jz4CRdgjZG1Z"
      }
    },
    {
      "cell_type": "code",
      "source": [
        "x=df.groupby('Area')['Y2017'].sum()\n",
        "x1=x.sort_values(ascending=False)\n",
        "x1.tail(7)"
      ],
      "metadata": {
        "colab": {
          "base_uri": "https://localhost:8080/"
        },
        "id": "ewVTw0yJFtH7",
        "outputId": "2bf46338-ed21-45c3-d441-7141feba4b48"
      },
      "execution_count": null,
      "outputs": [
        {
          "output_type": "execute_result",
          "data": {
            "text/plain": [
              "Area\n",
              "Guinea-Bissau            19102.77\n",
              "Cabo Verde               14650.74\n",
              "Sao Tome and Principe    12662.63\n",
              "Seychelles                 442.34\n",
              "Comoros                     59.84\n",
              "Sudan (former)               0.00\n",
              "Ethiopia PDR                 0.00\n",
              "Name: Y2017, dtype: float64"
            ]
          },
          "metadata": {},
          "execution_count": 6
        }
      ]
    },
    {
      "cell_type": "markdown",
      "source": [
        "###Q14-What is the total Protein supply quantity in Madagascar in 2015?\n",
        "Ans-173.05"
      ],
      "metadata": {
        "id": "Dadk1PcZZ2kB"
      }
    },
    {
      "cell_type": "code",
      "source": [
        "x=df[df['Area']=='Madagascar']\n",
        "x1=x.groupby(['Area','Element'])['Y2015'].sum()\n",
        "x1"
      ],
      "metadata": {
        "colab": {
          "base_uri": "https://localhost:8080/"
        },
        "id": "B7941FmPIzC6",
        "outputId": "3267b983-11b6-46da-ad17-26c58fe47247"
      },
      "execution_count": null,
      "outputs": [
        {
          "output_type": "execute_result",
          "data": {
            "text/plain": [
              "Area        Element                               \n",
              "Madagascar  Domestic supply quantity                  31214.98\n",
              "            Export Quantity                             494.75\n",
              "            Fat supply quantity (g/capita/day)           91.85\n",
              "            Feed                                       2070.22\n",
              "            Food                                      21120.65\n",
              "            Food supply (kcal/capita/day)              7685.00\n",
              "            Food supply quantity (kg/capita/yr)         871.59\n",
              "            Import Quantity                            1721.80\n",
              "            Losses                                     2176.00\n",
              "            Other uses (non-food)                      3957.12\n",
              "            Processing                                 1803.00\n",
              "            Production                                29482.89\n",
              "            Protein supply quantity (g/capita/day)      173.05\n",
              "            Residuals                                  -616.00\n",
              "            Seed                                        699.00\n",
              "            Stock Variation                            -505.00\n",
              "            Total Population - Both sexes             24234.00\n",
              "Name: Y2015, dtype: float64"
            ]
          },
          "metadata": {},
          "execution_count": 54
        }
      ]
    },
    {
      "cell_type": "markdown",
      "source": [
        "###Q15-Given the following numpy array \n",
        "\n",
        "array  = ([[94, 89, 63],\n",
        "\n",
        "             [93, 92, 48],\n",
        "\n",
        "             [92, 94, 56]])\n",
        "\n",
        "How would you select  the elements in bold and italics from the array?\n",
        "\n",
        "Ans-array[ : 1, 1 : ]"
      ],
      "metadata": {
        "id": "bAUikPtmaHCt"
      }
    },
    {
      "cell_type": "markdown",
      "source": [
        "###Q16-Perform a groupby operation on ‘Element’.  What year has the highest sum of Stock Variation?\n",
        "\n",
        "Ans-Y2014"
      ],
      "metadata": {
        "id": "cyqbKmHlaVLJ"
      }
    },
    {
      "cell_type": "code",
      "source": [
        "df.groupby('Element')['Y2014','Y2015','Y2016','Y2017','Y2018'].sum()"
      ],
      "metadata": {
        "colab": {
          "base_uri": "https://localhost:8080/",
          "height": 680
        },
        "id": "Ml4lKZZOH741",
        "outputId": "1af8dc8e-48ff-4f2c-cc06-898c71efbcb0"
      },
      "execution_count": null,
      "outputs": [
        {
          "output_type": "stream",
          "name": "stderr",
          "text": [
            "<ipython-input-10-f801cfa6282d>:1: FutureWarning: Indexing with multiple keys (implicitly converted to a tuple of keys) will be deprecated, use a list instead.\n",
            "  df.groupby('Element')['Y2014','Y2015','Y2016','Y2017','Y2018'].sum()\n"
          ]
        },
        {
          "output_type": "execute_result",
          "data": {
            "text/plain": [
              "                                             Y2014       Y2015       Y2016  \\\n",
              "Element                                                                      \n",
              "Domestic supply quantity                1996716.35  2021493.55  2044842.70   \n",
              "Export Quantity                          150020.64   157614.47   151920.46   \n",
              "Fat supply quantity (g/capita/day)        10225.56    10235.74    10102.77   \n",
              "Feed                                     216927.89   225050.22   228958.65   \n",
              "Food                                    1212332.49  1232361.10  1247022.17   \n",
              "Food supply (kcal/capita/day)            454257.00   453383.00   451810.00   \n",
              "Food supply quantity (kg/capita/yr)       49650.63    49345.13    48985.28   \n",
              "Import Quantity                          274144.48   267018.46   286582.78   \n",
              "Losses                                   153223.00   155439.00   157787.00   \n",
              "Other uses (non-food)                     78718.13    66254.41    69563.68   \n",
              "Processing                               282923.00   287929.00   280631.00   \n",
              "Production                              1931287.75  1947019.39  1943537.15   \n",
              "Protein supply quantity (g/capita/day)    11836.46    11833.95    11779.69   \n",
              "Residuals                                 30149.00    30045.00    37224.00   \n",
              "Seed                                      21922.92    23976.82    23389.20   \n",
              "Stock Variation                           58749.83    34910.99    33140.12   \n",
              "Total Population - Both sexes           1031585.00  1058081.00  1085107.00   \n",
              "Tourist consumption                         416.00      349.00       89.00   \n",
              "\n",
              "                                             Y2017       Y2018  \n",
              "Element                                                         \n",
              "Domestic supply quantity                2088198.10  2161192.10  \n",
              "Export Quantity                          182338.80   181594.80  \n",
              "Fat supply quantity (g/capita/day)        10253.84    10258.69  \n",
              "Feed                                     223705.68   233489.68  \n",
              "Food                                    1258888.28  1303841.28  \n",
              "Food supply (kcal/capita/day)            454681.00   455261.00  \n",
              "Food supply quantity (kg/capita/yr)       48690.04    49056.85  \n",
              "Import Quantity                          294559.09   287997.09  \n",
              "Losses                                   160614.00   163902.00  \n",
              "Other uses (non-food)                     91645.97    91300.97  \n",
              "Processing                               292836.00   308429.00  \n",
              "Production                              2030056.89  2075072.89  \n",
              "Protein supply quantity (g/capita/day)    11842.45    11833.56  \n",
              "Residuals                                 35500.00    34864.00  \n",
              "Seed                                      24870.14    25263.14  \n",
              "Stock Variation                           54316.91    20577.91  \n",
              "Total Population - Both sexes           1112641.00  1140605.00  \n",
              "Tourist consumption                          91.00       90.00  "
            ],
            "text/html": [
              "\n",
              "  <div id=\"df-78d11511-3bd1-4860-9102-21d60be0a707\">\n",
              "    <div class=\"colab-df-container\">\n",
              "      <div>\n",
              "<style scoped>\n",
              "    .dataframe tbody tr th:only-of-type {\n",
              "        vertical-align: middle;\n",
              "    }\n",
              "\n",
              "    .dataframe tbody tr th {\n",
              "        vertical-align: top;\n",
              "    }\n",
              "\n",
              "    .dataframe thead th {\n",
              "        text-align: right;\n",
              "    }\n",
              "</style>\n",
              "<table border=\"1\" class=\"dataframe\">\n",
              "  <thead>\n",
              "    <tr style=\"text-align: right;\">\n",
              "      <th></th>\n",
              "      <th>Y2014</th>\n",
              "      <th>Y2015</th>\n",
              "      <th>Y2016</th>\n",
              "      <th>Y2017</th>\n",
              "      <th>Y2018</th>\n",
              "    </tr>\n",
              "    <tr>\n",
              "      <th>Element</th>\n",
              "      <th></th>\n",
              "      <th></th>\n",
              "      <th></th>\n",
              "      <th></th>\n",
              "      <th></th>\n",
              "    </tr>\n",
              "  </thead>\n",
              "  <tbody>\n",
              "    <tr>\n",
              "      <th>Domestic supply quantity</th>\n",
              "      <td>1996716.35</td>\n",
              "      <td>2021493.55</td>\n",
              "      <td>2044842.70</td>\n",
              "      <td>2088198.10</td>\n",
              "      <td>2161192.10</td>\n",
              "    </tr>\n",
              "    <tr>\n",
              "      <th>Export Quantity</th>\n",
              "      <td>150020.64</td>\n",
              "      <td>157614.47</td>\n",
              "      <td>151920.46</td>\n",
              "      <td>182338.80</td>\n",
              "      <td>181594.80</td>\n",
              "    </tr>\n",
              "    <tr>\n",
              "      <th>Fat supply quantity (g/capita/day)</th>\n",
              "      <td>10225.56</td>\n",
              "      <td>10235.74</td>\n",
              "      <td>10102.77</td>\n",
              "      <td>10253.84</td>\n",
              "      <td>10258.69</td>\n",
              "    </tr>\n",
              "    <tr>\n",
              "      <th>Feed</th>\n",
              "      <td>216927.89</td>\n",
              "      <td>225050.22</td>\n",
              "      <td>228958.65</td>\n",
              "      <td>223705.68</td>\n",
              "      <td>233489.68</td>\n",
              "    </tr>\n",
              "    <tr>\n",
              "      <th>Food</th>\n",
              "      <td>1212332.49</td>\n",
              "      <td>1232361.10</td>\n",
              "      <td>1247022.17</td>\n",
              "      <td>1258888.28</td>\n",
              "      <td>1303841.28</td>\n",
              "    </tr>\n",
              "    <tr>\n",
              "      <th>Food supply (kcal/capita/day)</th>\n",
              "      <td>454257.00</td>\n",
              "      <td>453383.00</td>\n",
              "      <td>451810.00</td>\n",
              "      <td>454681.00</td>\n",
              "      <td>455261.00</td>\n",
              "    </tr>\n",
              "    <tr>\n",
              "      <th>Food supply quantity (kg/capita/yr)</th>\n",
              "      <td>49650.63</td>\n",
              "      <td>49345.13</td>\n",
              "      <td>48985.28</td>\n",
              "      <td>48690.04</td>\n",
              "      <td>49056.85</td>\n",
              "    </tr>\n",
              "    <tr>\n",
              "      <th>Import Quantity</th>\n",
              "      <td>274144.48</td>\n",
              "      <td>267018.46</td>\n",
              "      <td>286582.78</td>\n",
              "      <td>294559.09</td>\n",
              "      <td>287997.09</td>\n",
              "    </tr>\n",
              "    <tr>\n",
              "      <th>Losses</th>\n",
              "      <td>153223.00</td>\n",
              "      <td>155439.00</td>\n",
              "      <td>157787.00</td>\n",
              "      <td>160614.00</td>\n",
              "      <td>163902.00</td>\n",
              "    </tr>\n",
              "    <tr>\n",
              "      <th>Other uses (non-food)</th>\n",
              "      <td>78718.13</td>\n",
              "      <td>66254.41</td>\n",
              "      <td>69563.68</td>\n",
              "      <td>91645.97</td>\n",
              "      <td>91300.97</td>\n",
              "    </tr>\n",
              "    <tr>\n",
              "      <th>Processing</th>\n",
              "      <td>282923.00</td>\n",
              "      <td>287929.00</td>\n",
              "      <td>280631.00</td>\n",
              "      <td>292836.00</td>\n",
              "      <td>308429.00</td>\n",
              "    </tr>\n",
              "    <tr>\n",
              "      <th>Production</th>\n",
              "      <td>1931287.75</td>\n",
              "      <td>1947019.39</td>\n",
              "      <td>1943537.15</td>\n",
              "      <td>2030056.89</td>\n",
              "      <td>2075072.89</td>\n",
              "    </tr>\n",
              "    <tr>\n",
              "      <th>Protein supply quantity (g/capita/day)</th>\n",
              "      <td>11836.46</td>\n",
              "      <td>11833.95</td>\n",
              "      <td>11779.69</td>\n",
              "      <td>11842.45</td>\n",
              "      <td>11833.56</td>\n",
              "    </tr>\n",
              "    <tr>\n",
              "      <th>Residuals</th>\n",
              "      <td>30149.00</td>\n",
              "      <td>30045.00</td>\n",
              "      <td>37224.00</td>\n",
              "      <td>35500.00</td>\n",
              "      <td>34864.00</td>\n",
              "    </tr>\n",
              "    <tr>\n",
              "      <th>Seed</th>\n",
              "      <td>21922.92</td>\n",
              "      <td>23976.82</td>\n",
              "      <td>23389.20</td>\n",
              "      <td>24870.14</td>\n",
              "      <td>25263.14</td>\n",
              "    </tr>\n",
              "    <tr>\n",
              "      <th>Stock Variation</th>\n",
              "      <td>58749.83</td>\n",
              "      <td>34910.99</td>\n",
              "      <td>33140.12</td>\n",
              "      <td>54316.91</td>\n",
              "      <td>20577.91</td>\n",
              "    </tr>\n",
              "    <tr>\n",
              "      <th>Total Population - Both sexes</th>\n",
              "      <td>1031585.00</td>\n",
              "      <td>1058081.00</td>\n",
              "      <td>1085107.00</td>\n",
              "      <td>1112641.00</td>\n",
              "      <td>1140605.00</td>\n",
              "    </tr>\n",
              "    <tr>\n",
              "      <th>Tourist consumption</th>\n",
              "      <td>416.00</td>\n",
              "      <td>349.00</td>\n",
              "      <td>89.00</td>\n",
              "      <td>91.00</td>\n",
              "      <td>90.00</td>\n",
              "    </tr>\n",
              "  </tbody>\n",
              "</table>\n",
              "</div>\n",
              "      <button class=\"colab-df-convert\" onclick=\"convertToInteractive('df-78d11511-3bd1-4860-9102-21d60be0a707')\"\n",
              "              title=\"Convert this dataframe to an interactive table.\"\n",
              "              style=\"display:none;\">\n",
              "        \n",
              "  <svg xmlns=\"http://www.w3.org/2000/svg\" height=\"24px\"viewBox=\"0 0 24 24\"\n",
              "       width=\"24px\">\n",
              "    <path d=\"M0 0h24v24H0V0z\" fill=\"none\"/>\n",
              "    <path d=\"M18.56 5.44l.94 2.06.94-2.06 2.06-.94-2.06-.94-.94-2.06-.94 2.06-2.06.94zm-11 1L8.5 8.5l.94-2.06 2.06-.94-2.06-.94L8.5 2.5l-.94 2.06-2.06.94zm10 10l.94 2.06.94-2.06 2.06-.94-2.06-.94-.94-2.06-.94 2.06-2.06.94z\"/><path d=\"M17.41 7.96l-1.37-1.37c-.4-.4-.92-.59-1.43-.59-.52 0-1.04.2-1.43.59L10.3 9.45l-7.72 7.72c-.78.78-.78 2.05 0 2.83L4 21.41c.39.39.9.59 1.41.59.51 0 1.02-.2 1.41-.59l7.78-7.78 2.81-2.81c.8-.78.8-2.07 0-2.86zM5.41 20L4 18.59l7.72-7.72 1.47 1.35L5.41 20z\"/>\n",
              "  </svg>\n",
              "      </button>\n",
              "      \n",
              "  <style>\n",
              "    .colab-df-container {\n",
              "      display:flex;\n",
              "      flex-wrap:wrap;\n",
              "      gap: 12px;\n",
              "    }\n",
              "\n",
              "    .colab-df-convert {\n",
              "      background-color: #E8F0FE;\n",
              "      border: none;\n",
              "      border-radius: 50%;\n",
              "      cursor: pointer;\n",
              "      display: none;\n",
              "      fill: #1967D2;\n",
              "      height: 32px;\n",
              "      padding: 0 0 0 0;\n",
              "      width: 32px;\n",
              "    }\n",
              "\n",
              "    .colab-df-convert:hover {\n",
              "      background-color: #E2EBFA;\n",
              "      box-shadow: 0px 1px 2px rgba(60, 64, 67, 0.3), 0px 1px 3px 1px rgba(60, 64, 67, 0.15);\n",
              "      fill: #174EA6;\n",
              "    }\n",
              "\n",
              "    [theme=dark] .colab-df-convert {\n",
              "      background-color: #3B4455;\n",
              "      fill: #D2E3FC;\n",
              "    }\n",
              "\n",
              "    [theme=dark] .colab-df-convert:hover {\n",
              "      background-color: #434B5C;\n",
              "      box-shadow: 0px 1px 3px 1px rgba(0, 0, 0, 0.15);\n",
              "      filter: drop-shadow(0px 1px 2px rgba(0, 0, 0, 0.3));\n",
              "      fill: #FFFFFF;\n",
              "    }\n",
              "  </style>\n",
              "\n",
              "      <script>\n",
              "        const buttonEl =\n",
              "          document.querySelector('#df-78d11511-3bd1-4860-9102-21d60be0a707 button.colab-df-convert');\n",
              "        buttonEl.style.display =\n",
              "          google.colab.kernel.accessAllowed ? 'block' : 'none';\n",
              "\n",
              "        async function convertToInteractive(key) {\n",
              "          const element = document.querySelector('#df-78d11511-3bd1-4860-9102-21d60be0a707');\n",
              "          const dataTable =\n",
              "            await google.colab.kernel.invokeFunction('convertToInteractive',\n",
              "                                                     [key], {});\n",
              "          if (!dataTable) return;\n",
              "\n",
              "          const docLinkHtml = 'Like what you see? Visit the ' +\n",
              "            '<a target=\"_blank\" href=https://colab.research.google.com/notebooks/data_table.ipynb>data table notebook</a>'\n",
              "            + ' to learn more about interactive tables.';\n",
              "          element.innerHTML = '';\n",
              "          dataTable['output_type'] = 'display_data';\n",
              "          await google.colab.output.renderOutput(dataTable, element);\n",
              "          const docLink = document.createElement('div');\n",
              "          docLink.innerHTML = docLinkHtml;\n",
              "          element.appendChild(docLink);\n",
              "        }\n",
              "      </script>\n",
              "    </div>\n",
              "  </div>\n",
              "  "
            ]
          },
          "metadata": {},
          "execution_count": 10
        }
      ]
    },
    {
      "cell_type": "markdown",
      "source": [
        "###Q17-What would be the output for?\n",
        "\n",
        "S = [['him', 'sell'], [90, 28, 43]]\n",
        "\n",
        "S[0][1][1]"
      ],
      "metadata": {
        "id": "uo3UHQNSbNje"
      }
    },
    {
      "cell_type": "code",
      "source": [
        "S = [['him', 'sell'], [90, 28, 43]]\n",
        "S[0][1][1]"
      ],
      "metadata": {
        "colab": {
          "base_uri": "https://localhost:8080/",
          "height": 35
        },
        "id": "mhJrAp_CBNxj",
        "outputId": "8d394dbc-da8c-4ba6-d4fc-f0e8f48111b1"
      },
      "execution_count": null,
      "outputs": [
        {
          "output_type": "execute_result",
          "data": {
            "text/plain": [
              "'e'"
            ],
            "application/vnd.google.colaboratory.intrinsic+json": {
              "type": "string"
            }
          },
          "metadata": {},
          "execution_count": 10
        }
      ]
    },
    {
      "cell_type": "markdown",
      "source": [
        "###Q18-A pandas Dataframe with dimensions (100,3) has how many features and observations?\n",
        "\n",
        "Ans-3 features, 100 observations"
      ],
      "metadata": {
        "id": "qhItg9i4bS2u"
      }
    },
    {
      "cell_type": "markdown",
      "source": [
        "###Q19-Perform a groupby operation on ‘Element’.  What is the total number of the sum of Processing in 2017?\n",
        "\n",
        "Ans-292836.00"
      ],
      "metadata": {
        "id": "CFakNmAWbYIm"
      }
    },
    {
      "cell_type": "code",
      "source": [
        "df.groupby('Element')['Y2017'].sum()"
      ],
      "metadata": {
        "colab": {
          "base_uri": "https://localhost:8080/"
        },
        "id": "urUwPImTHkyj",
        "outputId": "2fcbbaf1-700e-4913-f0e6-457ea72e58c4"
      },
      "execution_count": null,
      "outputs": [
        {
          "output_type": "execute_result",
          "data": {
            "text/plain": [
              "Element\n",
              "Domestic supply quantity                  2088198.10\n",
              "Export Quantity                            182338.80\n",
              "Fat supply quantity (g/capita/day)          10253.84\n",
              "Feed                                       223705.68\n",
              "Food                                      1258888.28\n",
              "Food supply (kcal/capita/day)              454681.00\n",
              "Food supply quantity (kg/capita/yr)         48690.04\n",
              "Import Quantity                            294559.09\n",
              "Losses                                     160614.00\n",
              "Other uses (non-food)                       91645.97\n",
              "Processing                                 292836.00\n",
              "Production                                2030056.89\n",
              "Protein supply quantity (g/capita/day)      11842.45\n",
              "Residuals                                   35500.00\n",
              "Seed                                        24870.14\n",
              "Stock Variation                             54316.91\n",
              "Total Population - Both sexes             1112641.00\n",
              "Tourist consumption                            91.00\n",
              "Name: Y2017, dtype: float64"
            ]
          },
          "metadata": {},
          "execution_count": 42
        }
      ]
    },
    {
      "cell_type": "markdown",
      "source": [
        "###Q20-Which of the following dataframe methods can be used to access elements across rows and columns?\n",
        "\n",
        "Ans-df.iloc[ : ] "
      ],
      "metadata": {
        "id": "ciibDZLobn7O"
      }
    }
  ]
}